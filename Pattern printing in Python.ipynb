{
 "cells": [
  {
   "cell_type": "markdown",
   "metadata": {},
   "source": [
    "## Pattern Printing in Python"
   ]
  },
  {
   "cell_type": "code",
   "execution_count": 2,
   "metadata": {},
   "outputs": [
    {
     "name": "stdout",
     "output_type": "stream",
     "text": [
      "11111 \n",
      "22222 \n",
      "33333 \n",
      "44444 \n",
      "55555 \n"
     ]
    }
   ],
   "source": [
    "for i in range(1,6):\n",
    "    for j in range(1,6):\n",
    "        print(i,end=\"\")\n",
    "    print(\" \")    \n",
    "        "
   ]
  },
  {
   "cell_type": "code",
   "execution_count": 3,
   "metadata": {},
   "outputs": [
    {
     "name": "stdout",
     "output_type": "stream",
     "text": [
      "12345 \n",
      "12345 \n",
      "12345 \n",
      "12345 \n",
      "12345 \n"
     ]
    }
   ],
   "source": [
    "for i in range(1,6):\n",
    "    for j in range(1,6):\n",
    "        print(j,end=\"\")\n",
    "    print(\" \")   "
   ]
  },
  {
   "cell_type": "code",
   "execution_count": 4,
   "metadata": {},
   "outputs": [
    {
     "name": "stdout",
     "output_type": "stream",
     "text": [
      "1 \n",
      "12 \n",
      "123 \n",
      "1234 \n",
      "12345 \n"
     ]
    }
   ],
   "source": [
    "for i in range(1,6):\n",
    "    for j in range(1,i+1):\n",
    "        print(j,end=\"\")\n",
    "    print(\" \")    "
   ]
  },
  {
   "cell_type": "code",
   "execution_count": 5,
   "metadata": {},
   "outputs": [
    {
     "name": "stdout",
     "output_type": "stream",
     "text": [
      "1 \n",
      "22 \n",
      "333 \n",
      "4444 \n",
      "55555 \n"
     ]
    }
   ],
   "source": [
    "for i in range(1,6):\n",
    "    for j in range(1,i+1):\n",
    "        print(i,end=\"\")\n",
    "    print(\" \")    "
   ]
  },
  {
   "cell_type": "code",
   "execution_count": 6,
   "metadata": {},
   "outputs": [
    {
     "name": "stdout",
     "output_type": "stream",
     "text": [
      "* \n",
      "** \n",
      "*** \n",
      "**** \n",
      "***** \n"
     ]
    }
   ],
   "source": [
    "for i in range(1,6):\n",
    "    for j in range(1,i+1):\n",
    "        print(\"*\",end=\"\")\n",
    "    print(\" \")    "
   ]
  },
  {
   "cell_type": "code",
   "execution_count": 7,
   "metadata": {},
   "outputs": [
    {
     "name": "stdout",
     "output_type": "stream",
     "text": [
      "A \n",
      "BC \n",
      "DEF \n",
      "GHIJ \n",
      "KLMNO \n"
     ]
    }
   ],
   "source": [
    "x=65\n",
    "for i in range(1,6):\n",
    "    for j in range(1,i+1):\n",
    "        print(chr(x),end=\"\")\n",
    "        x+=1\n",
    "    print(\" \")    "
   ]
  },
  {
   "cell_type": "code",
   "execution_count": 8,
   "metadata": {},
   "outputs": [
    {
     "name": "stdout",
     "output_type": "stream",
     "text": [
      "A \n",
      "AB \n",
      "ABC \n",
      "ABCD \n",
      "ABCDE \n"
     ]
    }
   ],
   "source": [
    "for i in range(1,6):\n",
    "    x=65\n",
    "    for j in range(1,i+1):\n",
    "        print(chr(x),end=\"\")\n",
    "        x+=1\n",
    "    print(\" \")    "
   ]
  },
  {
   "cell_type": "code",
   "execution_count": 9,
   "metadata": {},
   "outputs": [
    {
     "name": "stdout",
     "output_type": "stream",
     "text": [
      "11111 \n",
      "2222 \n",
      "333 \n",
      "44 \n",
      "5 \n"
     ]
    }
   ],
   "source": [
    "for i in range(1,6):\n",
    "    for j in range(1,6-i+1):\n",
    "        print(i,end=\"\")\n",
    "    print(\" \")    "
   ]
  },
  {
   "cell_type": "code",
   "execution_count": 10,
   "metadata": {},
   "outputs": [
    {
     "name": "stdout",
     "output_type": "stream",
     "text": [
      "        * \n",
      "      * * \n",
      "    * * * \n",
      "  * * * * \n",
      "* * * * * \n"
     ]
    }
   ],
   "source": [
    "for i in range(1,6):\n",
    "    for j in range(1,6-i):\n",
    "        print(\" \", end=\" \")\n",
    "    for k in range (1,i+1):\n",
    "        print(\"*\", end=\" \")\n",
    "    print(\"\")"
   ]
  },
  {
   "cell_type": "code",
   "execution_count": 12,
   "metadata": {},
   "outputs": [
    {
     "name": "stdout",
     "output_type": "stream",
     "text": [
      "        A \n",
      "      A B \n",
      "    A B C \n",
      "  A B C D \n",
      "A B C D E \n"
     ]
    }
   ],
   "source": [
    "m=0\n",
    "for i in range(1,6):\n",
    "    for j in range(1,6-i):\n",
    "        print(\" \", end=\" \")\n",
    "    for k in range (65,65+i):\n",
    "        print(chr(k),end=\" \")\n",
    "        m+=1\n",
    "    print(\"\")"
   ]
  },
  {
   "cell_type": "code",
   "execution_count": 13,
   "metadata": {},
   "outputs": [
    {
     "name": "stdout",
     "output_type": "stream",
     "text": [
      "* * * * * \n",
      "  * * * * \n",
      "    * * * \n",
      "      * * \n",
      "        * \n"
     ]
    }
   ],
   "source": [
    "for i in range(1,6):\n",
    "    for j in range(1,i):\n",
    "        print(\" \", end=\" \")\n",
    "    for k in range(0,6-i):\n",
    "        print(\"*\", end=\" \")\n",
    "    print(\"\")"
   ]
  },
  {
   "cell_type": "code",
   "execution_count": 14,
   "metadata": {},
   "outputs": [
    {
     "name": "stdout",
     "output_type": "stream",
     "text": [
      "5 4 3 2 1 \n",
      "  5 4 3 2 \n",
      "    5 4 3 \n",
      "      5 4 \n",
      "        5 \n"
     ]
    }
   ],
   "source": [
    "for i in range(1,6):\n",
    "    m=5\n",
    "    for j in range(1,i):\n",
    "        print(\" \", end=\" \")\n",
    "    for k in range(0,6-i):\n",
    "        print(m, end=\" \")\n",
    "        m-=+1\n",
    "    print(\"\")"
   ]
  },
  {
   "cell_type": "code",
   "execution_count": 15,
   "metadata": {},
   "outputs": [
    {
     "name": "stdout",
     "output_type": "stream",
     "text": [
      "        *   \n",
      "      *   *   \n",
      "    *   *   *   \n",
      "  *   *   *   *   \n",
      "*   *   *   *   *   \n"
     ]
    }
   ],
   "source": [
    "for i in range(1,6):\n",
    "    for j in range(1,6-i):\n",
    "        print(\" \", end=\" \")\n",
    "    for k in range (0,i):\n",
    "        print(\"*\", end=\"   \")\n",
    "    print(\"\")"
   ]
  },
  {
   "cell_type": "code",
   "execution_count": 16,
   "metadata": {},
   "outputs": [
    {
     "name": "stdout",
     "output_type": "stream",
     "text": [
      "        1 \n",
      "      2 2 2 \n",
      "    3 3 3 3 3 \n",
      "  4 4 4 4 4 4 4 \n",
      "5 5 5 5 5 5 5 5 5 \n"
     ]
    }
   ],
   "source": [
    "for i in range(1,6):\n",
    "    for j in range(1,6-i):\n",
    "        print(\" \", end=\" \")\n",
    "    for k in range (1,i+1):\n",
    "        print(i, end=\" \")\n",
    "    for l in range(2,i+1):\n",
    "        print(i,end=\" \")\n",
    "    print(\"\")\n",
    "    "
   ]
  },
  {
   "cell_type": "code",
   "execution_count": 17,
   "metadata": {},
   "outputs": [
    {
     "name": "stdout",
     "output_type": "stream",
     "text": [
      "        1 \n",
      "      1 2 1 \n",
      "    1 2 3 2 1 \n",
      "  1 2 3 4 3 2 1 \n",
      "1 2 3 4 5 4 3 2 1 \n"
     ]
    }
   ],
   "source": [
    "for i in range(1,6):\n",
    "    for j in range(1,6-i):\n",
    "        print(\" \", end=\" \")\n",
    "    for k in range (1,i+1):\n",
    "        print(k, end=\" \")\n",
    "    for l in range(i-1,0,-1):\n",
    "        print(l,end=\" \")   \n",
    "    print(\"\")    "
   ]
  },
  {
   "cell_type": "code",
   "execution_count": 18,
   "metadata": {},
   "outputs": [
    {
     "name": "stdout",
     "output_type": "stream",
     "text": [
      "        * \n",
      "      * * \n",
      "    * * * \n",
      "  * * * * \n",
      "* * * * * \n",
      "  * * * * \n",
      "    * * * \n",
      "      * * \n",
      "        * \n"
     ]
    }
   ],
   "source": [
    "for i in range(1,6):\n",
    "    for j in range(1,6-i):\n",
    "        print(\" \", end=\" \")\n",
    "    for k in range (1,i+1):\n",
    "        print(\"*\", end=\" \")\n",
    "    print(\"\")\n",
    "for i in range(1,5):\n",
    "    for j in range(1,i+1):\n",
    "        print(\" \", end=\" \")\n",
    "    for k in range(0,5-i):\n",
    "        print(\"*\", end=\" \")\n",
    "    print(\"\")    "
   ]
  },
  {
   "cell_type": "code",
   "execution_count": 19,
   "metadata": {},
   "outputs": [
    {
     "name": "stdout",
     "output_type": "stream",
     "text": [
      "*   *   *   *   *   *   \n",
      "  *   *   *   *   *   \n",
      "    *   *   *   *   \n",
      "      *   *   *   \n",
      "        *   *   \n",
      "          *   \n",
      "          *   \n",
      "        *   *   \n",
      "      *   *   *   \n",
      "    *   *   *   *   \n",
      "  *   *   *   *   *   \n",
      "*   *   *   *   *   *   \n"
     ]
    }
   ],
   "source": [
    "for i in range(7,1,-1):\n",
    "    for j in range(7,i,-1):\n",
    "        print(\" \", end=\" \")\n",
    "    for k in range (1,i):\n",
    "        print(\"*\", end=\"   \")\n",
    "    print(\"\")\n",
    "for i in range(1,7):\n",
    "    for j in range(1,7-i):\n",
    "        print(\" \", end=\" \")\n",
    "    for k in range (0,i):\n",
    "        print(\"*\", end=\"   \")\n",
    "    print(\"\")"
   ]
  },
  {
   "cell_type": "code",
   "execution_count": 20,
   "metadata": {},
   "outputs": [
    {
     "name": "stdout",
     "output_type": "stream",
     "text": [
      "          *   \n",
      "        *   *   \n",
      "      *   *   *   \n",
      "    *   *   *   *   \n",
      "  *   *   *   *   *   \n",
      "*   *   *   *   *   *   \n",
      "  *   *   *   *   *   \n",
      "    *   *   *   *   \n",
      "      *   *   *   \n",
      "        *   *   \n",
      "          *   \n"
     ]
    }
   ],
   "source": [
    "for i in range(1,7):\n",
    "    for j in range(1,7-i):\n",
    "        print(\" \", end=\" \")\n",
    "    for k in range (0,i):\n",
    "        print(\"*\", end=\"   \")\n",
    "    print(\"\")\n",
    "for i in range(6,1,-1):\n",
    "    for j in range(7,i,-1):\n",
    "        print(\" \", end=\" \")\n",
    "    for k in range (1,i):\n",
    "        print(\"*\", end=\"   \")\n",
    "    print(\"\")    "
   ]
  },
  {
   "cell_type": "code",
   "execution_count": 21,
   "metadata": {},
   "outputs": [
    {
     "name": "stdout",
     "output_type": "stream",
     "text": [
      "          A   \n",
      "        A   B   \n",
      "      A   B   C   \n",
      "    A   B   C   D   \n",
      "  A   B   C   D   E   \n",
      "A   B   C   D   E   F   \n",
      "  G   H   I   J   K   \n",
      "    L   M   N   O   \n",
      "      P   Q   R   \n",
      "        S   T   \n",
      "          U   \n"
     ]
    }
   ],
   "source": [
    "for i in range(1,7):\n",
    "    for j in range(1,7-i):\n",
    "        print(\" \", end=\" \")\n",
    "    for k in range (65,65+i):\n",
    "        print(chr(k), end=\"   \")\n",
    "    print(\"\")\n",
    "a=71\n",
    "for i in range(6,1,-1):\n",
    "    for j in range(7,i,-1):\n",
    "        print(\" \", end=\" \")\n",
    "    for k in range (1,i):\n",
    "        print(chr(a), end=\"   \")\n",
    "        a+=1    \n",
    "    print(\"\")    "
   ]
  },
  {
   "cell_type": "code",
   "execution_count": 22,
   "metadata": {},
   "outputs": [
    {
     "name": "stdout",
     "output_type": "stream",
     "text": [
      "A B C D E F G  \n",
      "A B C D E F  \n",
      "A B C D E  \n",
      "A B C D  \n",
      "A B C  \n",
      "A B  \n",
      "A  \n"
     ]
    }
   ],
   "source": [
    "for i in range(1,8):\n",
    "    a=65\n",
    "    for j in range(1,8-i+1):\n",
    "        print(chr(a),end=\" \")\n",
    "        a+=1\n",
    "    print(\" \")\n"
   ]
  },
  {
   "cell_type": "code",
   "execution_count": 23,
   "metadata": {},
   "outputs": [
    {
     "name": "stdout",
     "output_type": "stream",
     "text": [
      "      A \n",
      "    A B A \n",
      "  A B C B A \n",
      "A B C D C B A \n"
     ]
    }
   ],
   "source": [
    "#Aditya Kunal Bhate 19BCE10046\n",
    "for i in range(1,5):\n",
    "    for j in range(1,5-i):\n",
    "        print(\" \", end=\" \")\n",
    "    for k in range (65,65+i):\n",
    "        print(chr(k), end=\" \")\n",
    "    for l in range(k-1,64,-1):\n",
    "        print(chr(l),end=\" \")   \n",
    "    print(\"\")    "
   ]
  },
  {
   "cell_type": "code",
   "execution_count": 27,
   "metadata": {},
   "outputs": [
    {
     "name": "stdout",
     "output_type": "stream",
     "text": [
      "Enter number upto which you want to display 6\n",
      "A B C D E D C B A  \n",
      "A B C D   D C B A  \n",
      "A B C       C B A  \n",
      "A B           B A  \n",
      "A               A  \n",
      "                   \n"
     ]
    }
   ],
   "source": [
    "n=int(input(\"Enter number upto which you want to display \"))\n",
    "for i in range(0,n): #outer loop for number of rows\n",
    "    x=65\n",
    "    for j in range(1,n): #print chr value to n elements\n",
    "        print(chr(x),end=\" \")\n",
    "        x=x+1\n",
    "    for l in range(1,2*i-1):# generates 2i-1 spacing\n",
    "        print(\" \", end=\" \")\n",
    "    if (i == 0):\n",
    "        for k in range(1,n-1): \n",
    "            print(chr(x-2),end=\" \")#for 1st row only, decrement the chr value by two as x was incremented in earlier step\n",
    "            x=x-1\n",
    "    else:\n",
    "        print(\" \", end=\" \") #one spacing extra every time as it is 2i-1 (i is starting from 0)\n",
    "        for m in range(1, n):\n",
    "            print(chr(x-1),end=\" \") \n",
    "            x=x-1\n",
    "    n=n-1\n",
    "    print(\" \")"
   ]
  },
  {
   "cell_type": "code",
   "execution_count": null,
   "metadata": {},
   "outputs": [],
   "source": [
    "n=int(input(\"Enter number of rows: \"))\n",
    "a=[]\n",
    "for i in range(n):\n",
    "    a.append([])\n",
    "    a[i].append(1)\n",
    "    for j in range(1,i):\n",
    "        a[i].append(a[i-1][j-1]+a[i-1][j])\n",
    "    if(n!=0):\n",
    "        a[i].append(1)\n",
    "for i in range(n):\n",
    "    print(\"   \"*(n-i),end=\" \",sep=\" \")\n",
    "    for j in range(0,i+1):\n",
    "        print('{0:6}'.format(a[i][j]),end=\" \",sep=\" \")\n",
    "    print()"
   ]
  },
  {
   "cell_type": "code",
   "execution_count": 29,
   "metadata": {},
   "outputs": [
    {
     "name": "stdout",
     "output_type": "stream",
     "text": [
      "1  \n",
      "1  1  \n",
      "1  2  1  \n",
      "1  3  3  1  \n",
      "1  4  6  4  1  \n",
      "1  5  10  10  5  1  \n",
      "1  6  15  20  15  6  1  \n"
     ]
    }
   ],
   "source": [
    "def printPascal(n) : \n",
    "   \n",
    "    for line in range(0, n) : \n",
    "        for i in range(0, line + 1) : \n",
    "            print(binomialCoeff(line, i), \n",
    "                \" \", end = \"\") \n",
    "        print() \n",
    "      \n",
    "def binomialCoeff(n, k) : \n",
    "    res = 1\n",
    "    if (k > n - k) : \n",
    "        k = n - k \n",
    "    for i in range(0 , k) : \n",
    "        res = res * (n - i) \n",
    "        res = res // (i + 1) \n",
    "      \n",
    "    return res \n",
    "  \n",
    "# Driver program \n",
    "n = 7\n",
    "printPascal(n)"
   ]
  },
  {
   "cell_type": "code",
   "execution_count": 30,
   "metadata": {},
   "outputs": [
    {
     "name": "stdout",
     "output_type": "stream",
     "text": [
      "          1   \n",
      "        2   2   \n",
      "      3   3   3   \n",
      "    4   4   4   4   \n",
      "  5   5   5   5   5   \n",
      "6   6   6   6   6   6   \n",
      "  5   5   5   5   5   \n",
      "    4   4   4   4   \n",
      "      3   3   3   \n",
      "        2   2   \n",
      "          1   \n"
     ]
    }
   ],
   "source": [
    "for i in range(1,7):\n",
    "    for j in range(1,7-i):\n",
    "        print(\" \", end=\" \")\n",
    "    for k in range (1,1+i):\n",
    "        print(i, end=\"   \")\n",
    "    print(\"\")\n",
    "for i in range(6,1,-1):\n",
    "    for j in range(7,i,-1):\n",
    "        print(\" \", end=\" \")\n",
    "    for k in range (1,i):\n",
    "        print(i-1, end=\"   \")\n",
    "            \n",
    "    print(\"\")  \n",
    "    "
   ]
  },
  {
   "cell_type": "code",
   "execution_count": 32,
   "metadata": {},
   "outputs": [
    {
     "name": "stdout",
     "output_type": "stream",
     "text": [
      "1   2   3   4   5   \n",
      "  2   3   4   5   \n",
      "    3   4   5   \n",
      "      4   5   \n",
      "        5   \n",
      "      4   5   \n",
      "    3   4   5   \n",
      "  2   3   4   5   \n",
      "1   2   3   4   5   \n"
     ]
    }
   ],
   "source": [
    "for i in range(1,5):\n",
    "    for j in range(1,i):\n",
    "        print(\" \", end=\" \")\n",
    "    for k in range(i,6):\n",
    "        print(k, end=\"   \")\n",
    "    print(\"\")\n",
    "n=5\n",
    "for i in range(1,6):\n",
    "    for j in range(1,6-i):\n",
    "        print(\" \", end=\" \")\n",
    "    for k in range (n,6):\n",
    "        print(k, end=\"   \")\n",
    "    n-=1\n",
    "    print(\"\")    "
   ]
  },
  {
   "cell_type": "markdown",
   "metadata": {},
   "source": [
    "## Getting Datatype specific Input from the User"
   ]
  },
  {
   "cell_type": "code",
   "execution_count": 36,
   "metadata": {},
   "outputs": [],
   "source": [
    "# To Clear the O/P displayed\n",
    "\n",
    "from IPython.display import clear_output\n",
    "clear_output()\n",
    "def user_choice():\n",
    "    \n",
    "    # This original choice value can be anything that isn't an integer\n",
    "    choice = 'wrong'\n",
    "    \n",
    "    # While the choice is not a digit, keep asking for input.\n",
    "    while choice.isdigit() == False:\n",
    "        \n",
    "        # we shouldn't convert here, otherwise we get an error on a wrong input\n",
    "        choice = input(\"Choose a number: \")\n",
    "        \n",
    "        if choice.isdigit() == False:\n",
    "            # THIS CLEARS THE CURRENT OUTPUT BELOW THE CELL\n",
    "            clear_output()\n",
    "            print(\"Sorry, but you did not enter an integer. Please try again.\")\n",
    "            \n",
    "    \n",
    "    # Optionally you can clear everything after running the function\n",
    "    # clear_output()\n",
    "    clear_output()\n",
    "    # We can convert once the while loop above has confirmed we have a digit.\n",
    "    return int(choice)"
   ]
  },
  {
   "cell_type": "code",
   "execution_count": 37,
   "metadata": {},
   "outputs": [
    {
     "data": {
      "text/plain": [
       "5"
      ]
     },
     "execution_count": 37,
     "metadata": {},
     "output_type": "execute_result"
    }
   ],
   "source": [
    "user_choice()"
   ]
  }
 ],
 "metadata": {
  "kernelspec": {
   "display_name": "Python 3",
   "language": "python",
   "name": "python3"
  },
  "language_info": {
   "codemirror_mode": {
    "name": "ipython",
    "version": 3
   },
   "file_extension": ".py",
   "mimetype": "text/x-python",
   "name": "python",
   "nbconvert_exporter": "python",
   "pygments_lexer": "ipython3",
   "version": "3.8.8"
  }
 },
 "nbformat": 4,
 "nbformat_minor": 2
}
